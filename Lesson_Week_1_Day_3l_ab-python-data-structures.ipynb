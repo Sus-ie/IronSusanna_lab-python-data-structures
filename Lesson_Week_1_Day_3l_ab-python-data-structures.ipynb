{
 "cells": [
  {
   "cell_type": "markdown",
   "metadata": {
    "tags": []
   },
   "source": [
    "# Lab | Data Structures "
   ]
  },
  {
   "cell_type": "markdown",
   "metadata": {},
   "source": [
    "## Exercise: Managing Customer Orders\n",
    "\n",
    "As part of a business venture, you are starting an online store that sells various products. To ensure smooth operations, you need to develop a program that manages customer orders and inventory.\n",
    "\n",
    "Follow the steps below to complete the exercise:\n",
    "\n",
    "1. Define a list called `products` that contains the following items: \"t-shirt\", \"mug\", \"hat\", \"book\", \"keychain\".\n",
    "\n",
    "2. Create an empty dictionary called `inventory`.\n",
    "\n",
    "3. Ask the user to input the quantity of each product available in the inventory. Use the product names from the `products` list as keys in the `inventory` dictionary and assign the respective quantities as values.\n",
    ". \n",
    "## Populate the \"inventory\" dictionary with the quantities of each product as provided by the user##\n",
    "## Used help here ##\n",
    "\n",
    "4. Create an empty set called `customer_orders`.\n",
    "   ## A set is an unordered collection of unique elements ##\n",
    "\n",
    "5. Ask the user to input the name of three products that a customer wants to order (from those in the products list, meaning three products out of \"t-shirt\", \"mug\", \"hat\", \"book\" or \"keychain\". Add each product name to the `customer_orders` set.\n",
    "\n",
    "### Internet says \"loop\" is needed to repeat the asking process three times ## ## ask about loops - for now write it up seperatly. This can either be done by presenting the products and ask user to input one of these options - if option is invalid then ask to repeat###\n",
    "\n",
    "6. Print the products in the `customer_orders` set.\n",
    "### the input has not been validated - unsure how to###\n",
    "\n",
    "7. Calculate the following order statistics:\n",
    "   - Total Products Ordered: The total number of products in the `customer_orders` set.\n",
    "   - Percentage of Products Ordered: The percentage of products ordered compared to the total available products.\n",
    "   \n",
    "   Store these statistics in a tuple called `order_status`.\n",
    "\n",
    "8. Print the order statistics using the following format:\n",
    "   ```\n",
    "   Order Statistics:\n",
    "   Total Products Ordered: <total_products_ordered>\n",
    "   Percentage of Products Ordered: <percentage_ordered>% \n",
    "   ```\n",
    "\n",
    "9. Update the inventory by subtracting 1 from the quantity of each product. Modify the `inventory` dictionary accordingly.\n",
    "\n",
    "10. Print the updated inventory, displaying the quantity of each product on separate lines.\n",
    "\n",
    "Solve the exercise by implementing the steps using the Python concepts of lists, dictionaries, sets, and basic input/output operations. "
   ]
  },
  {
   "cell_type": "code",
   "execution_count": 2,
   "metadata": {},
   "outputs": [
    {
     "name": "stdout",
     "output_type": "stream",
     "text": [
      "['t-shirt', 'mug', 'hat', 'book', 'keychain']\n"
     ]
    }
   ],
   "source": [
    "products = [\"t-shirt\", \"mug\", \"hat\", \"book\", \"keychain\"]\n",
    "print (products)"
   ]
  },
  {
   "cell_type": "code",
   "execution_count": 8,
   "metadata": {},
   "outputs": [
    {
     "name": "stdout",
     "output_type": "stream",
     "text": [
      "{}\n"
     ]
    }
   ],
   "source": [
    "products = [\"t-shirt\", \"mug\", \"hat\", \"book\", \"keychain\"]\n",
    "inventory = {}\n",
    "print (inventory)"
   ]
  },
  {
   "cell_type": "code",
   "execution_count": 16,
   "metadata": {},
   "outputs": [
    {
     "name": "stdin",
     "output_type": "stream",
     "text": [
      "Input the quantity of t-shirt 3\n",
      "Input the quantity of mug 4\n",
      "Input the quantity of hat 5\n",
      "Input the quantity of book 1\n",
      "Input the quantity of keychain 3\n"
     ]
    },
    {
     "name": "stdout",
     "output_type": "stream",
     "text": [
      "{}\n"
     ]
    }
   ],
   "source": [
    "products = [\"t-shirt\", \"mug\", \"hat\", \"book\", \"keychain\"]\n",
    "inventory = {}\n",
    "## used help here##\n",
    "for product in products:\n",
    "    quantity = int(input(f\"Input the quantity of {product}\"))\n",
    "print (inventory)"
   ]
  },
  {
   "cell_type": "code",
   "execution_count": 18,
   "metadata": {},
   "outputs": [
    {
     "name": "stdin",
     "output_type": "stream",
     "text": [
      "Input the quantity of t-shirt 3\n",
      "Input the quantity of mug 5\n",
      "Input the quantity of hat 6\n",
      "Input the quantity of book 4\n",
      "Input the quantity of keychain 3\n"
     ]
    },
    {
     "data": {
      "text/plain": [
       "set()"
      ]
     },
     "execution_count": 18,
     "metadata": {},
     "output_type": "execute_result"
    }
   ],
   "source": [
    "products = [\"t-shirt\", \"mug\", \"hat\", \"book\", \"keychain\"]\n",
    "inventory = {}\n",
    "## used help here##\n",
    "for product in products:\n",
    "    quantity = int(input(f\"Input the quantity of {product}\"))\n",
    "set ()"
   ]
  },
  {
   "cell_type": "code",
   "execution_count": 36,
   "metadata": {},
   "outputs": [
    {
     "name": "stdin",
     "output_type": "stream",
     "text": [
      "Input the quantity of t-shirt 3\n",
      "Input the quantity of mug 4\n",
      "Input the quantity of hat 4\n",
      "Input the quantity of book 4\n",
      "Input the quantity of keychain 4\n",
      "Enter order from product list book\n",
      "Enter second item from product list book\n",
      "Enter third item from product list book\n"
     ]
    },
    {
     "name": "stdout",
     "output_type": "stream",
     "text": [
      "order1 book\n"
     ]
    }
   ],
   "source": [
    "products = [\"t-shirt\", \"mug\", \"hat\", \"book\", \"keychain\"]\n",
    "inventory = {}\n",
    "## used help here##\n",
    "for product in products:\n",
    "    quantity = int(input(f\"Input the quantity of {product}\"))\n",
    "set ()\n",
    "#Here a loop could be inserted??#\n",
    "order1 = input(\"Enter order from product list\")\n",
    "order2 = input(\"Enter second item from product list\")\n",
    "order3 = input(\"Enter third item from product list\")\n",
    "\n",
    "print(\"order1\", order1)\n",
    "print(\"order2\", order2)\n",
    "print(\"order3\", order3)\n",
    "\n"
   ]
  },
  {
   "cell_type": "code",
   "execution_count": 36,
   "metadata": {},
   "outputs": [
    {
     "name": "stdin",
     "output_type": "stream",
     "text": [
      "Input the quantity of t-shirt 3\n",
      "Input the quantity of mug 4\n",
      "Input the quantity of hat 4\n",
      "Input the quantity of book 4\n",
      "Input the quantity of keychain 4\n",
      "Enter order from product list book\n",
      "Enter second item from product list book\n",
      "Enter third item from product list book\n"
     ]
    },
    {
     "name": "stdout",
     "output_type": "stream",
     "text": [
      "order1 book\n"
     ]
    }
   ],
   "source": [
    "##3##\n",
    "products = [\"t-shirt\", \"mug\", \"hat\", \"book\", \"keychain\"]\n",
    "inventory = {}\n",
    "## used help here##\n",
    "for product in products:\n",
    "    quantity = int(input(f\"Input the quantity of {product}\"))\n",
    "## missing was the naming of the set before - added now##\n",
    "customer_order = set ()\n",
    "#Here a loop could be inserted??#\n",
    "order1 = input(\"Enter order from product list\")\n",
    "order2 = input(\"Enter second item from product list\")\n",
    "order3 = input(\"Enter third item from product list\")\n",
    "\n",
    "print(\"order1\", order1)\n",
    "print(\"order2\", order2)\n",
    "print(\"order3\", order3)\n",
    "\n"
   ]
  },
  {
   "cell_type": "code",
   "execution_count": 5,
   "metadata": {},
   "outputs": [
    {
     "name": "stdin",
     "output_type": "stream",
     "text": [
      "Input the quantity of t-shirt 3\n",
      "Input the quantity of mug 4\n",
      "Input the quantity of hat 5\n",
      "Input the quantity of book 3\n",
      "Input the quantity of keychain 4\n",
      "Enter order from product list book\n",
      "Enter second item from product list mug\n",
      "Enter third item from product list book\n"
     ]
    },
    {
     "name": "stdout",
     "output_type": "stream",
     "text": [
      "Customer Orders {'book', 'mug'}\n"
     ]
    }
   ],
   "source": [
    "##4##\n",
    "products = [\"t-shirt\", \"mug\", \"hat\", \"book\", \"keychain\"]\n",
    "inventory = {}\n",
    "## used help here##\n",
    "for product in products:\n",
    "    quantity = int(input(f\"Input the quantity of {product}\"))\n",
    "## missing was the naming of the set before - added now##\n",
    "customer_order = set ()\n",
    "#Here a loop could be inserted??#\n",
    "order1 = input(\"Enter order from product list\")\n",
    "order2 = input(\"Enter second item from product list\")\n",
    "order3 = input(\"Enter third item from product list\")\n",
    "\n",
    "## we are no longer printing but now collecting orders to the set##\n",
    "customer_order.add(order1)\n",
    "customer_order.add(order2)\n",
    "customer_order.add(order3)\n",
    "\n",
    "#why not have = instead of removing it??)\n",
    "print (\"Customer Orders\", customer_order)"
   ]
  },
  {
   "cell_type": "code",
   "execution_count": null,
   "metadata": {},
   "outputs": [],
   "source": [
    "## here book was added twice, but I presume we are trying to understand seperate orders? How would you prevent then it only looking like two orders??'"
   ]
  },
  {
   "cell_type": "code",
   "execution_count": 7,
   "metadata": {},
   "outputs": [
    {
     "name": "stdin",
     "output_type": "stream",
     "text": [
      "Input the quantity of t-shirt 3\n",
      "Input the quantity of mug 4\n",
      "Input the quantity of hat 5\n",
      "Input the quantity of book 3\n",
      "Input the quantity of keychain 4\n",
      "Enter order from product list book\n",
      "Enter second item from product list mug\n",
      "Enter third item from product list hat\n"
     ]
    },
    {
     "name": "stdout",
     "output_type": "stream",
     "text": [
      "Customer Orders {'hat', 'book', 'mug'}\n"
     ]
    }
   ],
   "source": [
    "##5##\n",
    "products = [\"t-shirt\", \"mug\", \"hat\", \"book\", \"keychain\"]\n",
    "inventory = {}\n",
    "## used help here##\n",
    "for product in products:\n",
    "    quantity = int(input(f\"Input the quantity of {product}\"))\n",
    "## missing was the naming of the set before - added now##\n",
    "customer_order = set ()\n",
    "#Here a loop could be inserted??#\n",
    "order1 = input(\"Enter order from product list\")\n",
    "order2 = input(\"Enter second item from product list\")\n",
    "order3 = input(\"Enter third item from product list\")\n",
    "\n",
    "## we are no longer printing but now collecting orders to the set##\n",
    "customer_order.add(order1)\n",
    "customer_order.add(order2)\n",
    "customer_order.add(order3)\n",
    "\n",
    "#why not have = instead of removing it??)\n",
    "print (\"Customer Orders\", customer_order)"
   ]
  },
  {
   "cell_type": "code",
   "execution_count": 7,
   "metadata": {},
   "outputs": [
    {
     "name": "stdin",
     "output_type": "stream",
     "text": [
      "Input the quantity of t-shirt 3\n",
      "Input the quantity of mug 4\n",
      "Input the quantity of hat 5\n",
      "Input the quantity of book 3\n",
      "Input the quantity of keychain 4\n",
      "Enter order from product list book\n",
      "Enter second item from product list mug\n",
      "Enter third item from product list hat\n"
     ]
    },
    {
     "name": "stdout",
     "output_type": "stream",
     "text": [
      "Customer Orders {'hat', 'book', 'mug'}\n"
     ]
    }
   ],
   "source": [
    "##6##\n",
    "products = [\"t-shirt\", \"mug\", \"hat\", \"book\", \"keychain\"]\n",
    "inventory = {}\n",
    "## used help here##\n",
    "for product in products:\n",
    "    quantity = int(input(f\"Input the quantity of {product}\"))\n",
    "## missing was the naming of the set before - added now##\n",
    "customer_order = set ()\n",
    "#Here a loop could be inserted??#\n",
    "order1 = input(\"Enter order from product list\")\n",
    "order2 = input(\"Enter second item from product list\")\n",
    "order3 = input(\"Enter third item from product list\")\n",
    "\n",
    "## we are no longer printing but now collecting orders to the set##\n",
    "customer_order.add(order1)\n",
    "customer_order.add(order2)\n",
    "customer_order.add(order3)\n",
    "\n",
    "#why not have = instead of removing it??)\n",
    "print (\"Customer Orders\", customer_order)"
   ]
  },
  {
   "cell_type": "code",
   "execution_count": 15,
   "metadata": {},
   "outputs": [
    {
     "name": "stdin",
     "output_type": "stream",
     "text": [
      "Input the quantity of t-shirt 5\n",
      "Input the quantity of mug 3\n",
      "Input the quantity of hat 5\n",
      "Input the quantity of book 3\n",
      "Input the quantity of keychain 5\n",
      "Enter order from product list book\n",
      "Enter second item from product list hat\n",
      "Enter third item from product list mug\n"
     ]
    },
    {
     "name": "stdout",
     "output_type": "stream",
     "text": [
      "\n",
      "Order Statistics:\n",
      "Total Products Ordered: 3\n",
      "Percentage of Products Ordered: 60.00%\n"
     ]
    }
   ],
   "source": [
    "##6##\n",
    "products = [\"t-shirt\", \"mug\", \"hat\", \"book\", \"keychain\"]\n",
    "inventory = {}\n",
    "## used help here##\n",
    "for product in products:\n",
    "    quantity = int(input(f\"Input the quantity of {product}\"))\n",
    "## missing was the naming of the set before - added now##\n",
    "customer_order = set ()\n",
    "#Here a loop could be inserted??#\n",
    "order1 = input(\"Enter order from product list\")\n",
    "order2 = input(\"Enter second item from product list\")\n",
    "order3 = input(\"Enter third item from product list\")\n",
    "\n",
    "## we are no longer printing but now collecting orders to the set##\n",
    "customer_order.add(order1)\n",
    "customer_order.add(order2)\n",
    "customer_order.add(order3)\n",
    "\n",
    "#why not have = instead of removing it??)\n",
    "\n",
    "## Total Products Ordered: The total number of products in the `customer_orders` set.##\n",
    "## Percentage of Products Ordered: The percentage of products ordered compared to the total available products.##\n",
    "\n",
    "total_products_ordered = 0\n",
    "for _ in customer_order:\n",
    "    total_products_ordered += 1\n",
    "\n",
    "# Calculate the percentage of products ordered compared to the total number of products available\n",
    "total_products = 0\n",
    "for _ in products:\n",
    "    total_products += 1\n",
    "\n",
    "percentage_ordered = (total_products_ordered / total_products) * 100\n",
    "\n",
    "# Store order statistics in a tuple\n",
    "order_status = (total_products_ordered, percentage_ordered)\n",
    "\n",
    "print(\"\\nOrder Statistics:\")\n",
    "print(f\"Total Products Ordered: {order_status[0]}\")\n",
    "print(f\"Percentage of Products Ordered: {order_status[1]:.2f}%\")\n"
   ]
  }
 ],
 "metadata": {
  "kernelspec": {
   "display_name": "Python 3 (ipykernel)",
   "language": "python",
   "name": "python3"
  },
  "language_info": {
   "codemirror_mode": {
    "name": "ipython",
    "version": 3
   },
   "file_extension": ".py",
   "mimetype": "text/x-python",
   "name": "python",
   "nbconvert_exporter": "python",
   "pygments_lexer": "ipython3",
   "version": "3.11.7"
  }
 },
 "nbformat": 4,
 "nbformat_minor": 4
}
